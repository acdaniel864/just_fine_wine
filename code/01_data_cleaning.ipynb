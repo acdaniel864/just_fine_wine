{
 "cells": [
  {
   "cell_type": "markdown",
   "metadata": {},
   "source": [
    "# Data Cleaning"
   ]
  },
  {
   "cell_type": "code",
   "execution_count": 1,
   "metadata": {},
   "outputs": [],
   "source": [
    "import numpy as np\n",
    "import pandas as pd\n",
    "import matplotlib.pyplot as plt\n",
    "import cleaning_functions as cf\n",
    "from unidecode import unidecode # source: https://stackoverflow.com/questions/517923/what-is-the-best-way-to-remove-accents-normalize-in-a-python-unicode-string "
   ]
  },
  {
   "cell_type": "code",
   "execution_count": 2,
   "metadata": {},
   "outputs": [],
   "source": [
    "# Source (via Wine.com) : https://www.kaggle.com/datasets/salohiddindev/wine-dataset-scraping-from-wine-com (prices in USD)\n",
    "df_wine_com = pd.read_csv(\"../data/original_datasets/wine_com.csv\", encoding='utf-16')\n",
    "\n",
    "# Source (via Vivino.com): https://www.kaggle.com/datasets/budnyak/wine-rating-and-price (prices in EUR)\n",
    "df_viv_1 = pd.read_csv('../data/original_datasets/vivino_one.csv')\n",
    "df_viv_1.drop(columns=['Unnamed: 0'], inplace=True)\n",
    "\n",
    "# Source (via Vivino.com): https://www.kaggle.com/datasets/joshuakalobbowles/vivino-wine-data (prices in EUR)\n",
    "df_viv_2 = pd.read_csv('../data/original_datasets/vivino_two.csv')\n",
    "\n",
    "# Source (via Vivino.com): https://www.kaggle.com/datasets/nikitatkachenko/vivinoredwine/data (prices in USD)\n",
    "df_viv_3 = pd.read_csv('../data/original_datasets/validation_set.csv',encoding='latin1')\n",
    "df_viv_3.dropna(inplace=True)\n",
    "df_viv_3.drop(columns=['Unnamed: 0'], inplace=True)"
   ]
  },
  {
   "cell_type": "code",
   "execution_count": 3,
   "metadata": {},
   "outputs": [],
   "source": [
    "# Make column names snake_case.\n",
    "df_viv_1.columns = [col.lower().replace(' ', '_') for col in df_viv_1.columns]\n",
    "df_viv_2.columns = [col.lower().replace(' ', '_') for col in df_viv_2.columns]\n",
    "df_wine_com.columns = [col.lower().replace(' %', '').replace(' ', '_') for col in df_wine_com.columns]\n",
    "df_viv_3.columns = [col.lower().replace(' ', '_') for col in df_viv_3.columns]"
   ]
  },
  {
   "cell_type": "markdown",
   "metadata": {},
   "source": [
    "## Cleaning wine.com Dataset"
   ]
  },
  {
   "cell_type": "code",
   "execution_count": 4,
   "metadata": {},
   "outputs": [
    {
     "data": {
      "text/html": [
       "<div>\n",
       "<style scoped>\n",
       "    .dataframe tbody tr th:only-of-type {\n",
       "        vertical-align: middle;\n",
       "    }\n",
       "\n",
       "    .dataframe tbody tr th {\n",
       "        vertical-align: top;\n",
       "    }\n",
       "\n",
       "    .dataframe thead th {\n",
       "        text-align: right;\n",
       "    }\n",
       "</style>\n",
       "<table border=\"1\" class=\"dataframe\">\n",
       "  <thead>\n",
       "    <tr style=\"text-align: right;\">\n",
       "      <th></th>\n",
       "      <th>names</th>\n",
       "      <th>color_wine</th>\n",
       "      <th>prices</th>\n",
       "      <th>ml</th>\n",
       "      <th>ratings</th>\n",
       "      <th>ratingsnum</th>\n",
       "      <th>countrys</th>\n",
       "      <th>abv</th>\n",
       "      <th>rates</th>\n",
       "    </tr>\n",
       "  </thead>\n",
       "  <tbody>\n",
       "    <tr>\n",
       "      <th>0</th>\n",
       "      <td>00 Wines VGW Chardonnay 2017</td>\n",
       "      <td>White Wine</td>\n",
       "      <td>79.99$</td>\n",
       "      <td>750</td>\n",
       "      <td>0.0</td>\n",
       "      <td>0</td>\n",
       "      <td>Chardonnay from Willamette Valley, Oregon</td>\n",
       "      <td>13.0</td>\n",
       "      <td>JS, WE, WS</td>\n",
       "    </tr>\n",
       "    <tr>\n",
       "      <th>1</th>\n",
       "      <td>00 Wines VGR Pinot Noir 2019</td>\n",
       "      <td>Red Wine</td>\n",
       "      <td>99.99$</td>\n",
       "      <td>750</td>\n",
       "      <td>0.0</td>\n",
       "      <td>0</td>\n",
       "      <td>Pinot Noir from Willamette Valley, Oregon</td>\n",
       "      <td>12.9</td>\n",
       "      <td>WE, JS, RP</td>\n",
       "    </tr>\n",
       "    <tr>\n",
       "      <th>2</th>\n",
       "      <td>00 Wines EGW Chardonnay 2019</td>\n",
       "      <td>White Wine</td>\n",
       "      <td>115.99$</td>\n",
       "      <td>750</td>\n",
       "      <td>0.0</td>\n",
       "      <td>0</td>\n",
       "      <td>Chardonnay from Willamette Valley, Oregon</td>\n",
       "      <td>0.0</td>\n",
       "      <td>JS, RP, WE</td>\n",
       "    </tr>\n",
       "    <tr>\n",
       "      <th>3</th>\n",
       "      <td>100 Nails Ranch Pinot Noir 2019</td>\n",
       "      <td>Red Wine</td>\n",
       "      <td>16.99$</td>\n",
       "      <td>750</td>\n",
       "      <td>0.0</td>\n",
       "      <td>0</td>\n",
       "      <td>Pinot Noir from Central Coast, California</td>\n",
       "      <td>14.2</td>\n",
       "      <td>WW</td>\n",
       "    </tr>\n",
       "    <tr>\n",
       "      <th>4</th>\n",
       "      <td>100 Nails Ranch Chardonnay 2019</td>\n",
       "      <td>White Wine</td>\n",
       "      <td>16.99$</td>\n",
       "      <td>750</td>\n",
       "      <td>0.0</td>\n",
       "      <td>0</td>\n",
       "      <td>Chardonnay from Sonoma County, California</td>\n",
       "      <td>14.2</td>\n",
       "      <td>0</td>\n",
       "    </tr>\n",
       "  </tbody>\n",
       "</table>\n",
       "</div>"
      ],
      "text/plain": [
       "                             names  color_wine   prices   ml  ratings  \\\n",
       "0     00 Wines VGW Chardonnay 2017  White Wine   79.99$  750      0.0   \n",
       "1     00 Wines VGR Pinot Noir 2019    Red Wine   99.99$  750      0.0   \n",
       "2     00 Wines EGW Chardonnay 2019  White Wine  115.99$  750      0.0   \n",
       "3  100 Nails Ranch Pinot Noir 2019    Red Wine   16.99$  750      0.0   \n",
       "4  100 Nails Ranch Chardonnay 2019  White Wine   16.99$  750      0.0   \n",
       "\n",
       "   ratingsnum                                   countrys   abv       rates  \n",
       "0           0  Chardonnay from Willamette Valley, Oregon  13.0  JS, WE, WS  \n",
       "1           0  Pinot Noir from Willamette Valley, Oregon  12.9  WE, JS, RP  \n",
       "2           0  Chardonnay from Willamette Valley, Oregon   0.0  JS, RP, WE  \n",
       "3           0  Pinot Noir from Central Coast, California  14.2          WW  \n",
       "4           0  Chardonnay from Sonoma County, California  14.2           0  "
      ]
     },
     "execution_count": 4,
     "metadata": {},
     "output_type": "execute_result"
    }
   ],
   "source": [
    "df_wine_com.head()"
   ]
  },
  {
   "cell_type": "code",
   "execution_count": 5,
   "metadata": {},
   "outputs": [
    {
     "data": {
      "text/plain": [
       "(15254, 9)"
      ]
     },
     "execution_count": 5,
     "metadata": {},
     "output_type": "execute_result"
    }
   ],
   "source": [
    "df_wine_com.shape"
   ]
  },
  {
   "cell_type": "code",
   "execution_count": 6,
   "metadata": {},
   "outputs": [],
   "source": [
    "df_wine_com.drop_duplicates(inplace=True)"
   ]
  },
  {
   "cell_type": "code",
   "execution_count": 7,
   "metadata": {},
   "outputs": [],
   "source": [
    "# Correct prices \n",
    "df_wine_com['prices'] = df_wine_com['prices'].str.replace(',', '').str.replace('$', '').astype(float)"
   ]
  },
  {
   "cell_type": "code",
   "execution_count": 8,
   "metadata": {},
   "outputs": [
    {
     "data": {
      "text/plain": [
       "vintage\n",
       "2019    3050\n",
       "2020    2873\n",
       "2018    2317\n",
       "2021    1788\n",
       "2017    1373\n",
       "Name: count, dtype: int64"
      ]
     },
     "execution_count": 8,
     "metadata": {},
     "output_type": "execute_result"
    }
   ],
   "source": [
    "# Extract column for vintage from name column\n",
    "df_wine_com['vintage'] = df_wine_com['names'].apply(cf.get_vintage)\n",
    "df_wine_com['vintage'].value_counts().head()"
   ]
  },
  {
   "cell_type": "code",
   "execution_count": 9,
   "metadata": {},
   "outputs": [
    {
     "data": {
      "image/png": "[encoded data removed]",
      "text/plain": [
       "<Figure size 640x480 with 1 Axes>"
      ]
     },
     "metadata": {},
     "output_type": "display_data"
    }
   ],
   "source": [
    "# Investigate very old wines\n",
    "old_wines = df_wine_com[df_wine_com['vintage'] < '1985']\n",
    "plt.hist(old_wines['prices'], bins=50)\n",
    "plt.axvline(x=200, color='r', linestyle='dashed', linewidth=1, label='$200');"
   ]
  },
  {
   "cell_type": "code",
   "execution_count": 10,
   "metadata": {},
   "outputs": [],
   "source": [
    "'''\n",
    "Remove vintage for wines below $200 in price and 'older' than 1985, having investgated them \n",
    "individually these are wines with the established year of the producer in their name \n",
    "not the year grape was picked.\n",
    "'''\n",
    "df_wine_com.loc[(df_wine_com['prices'] < 200) & (df_wine_com['vintage'] < '1985'), 'vintage'] = 'unknown'"
   ]
  },
  {
   "cell_type": "code",
   "execution_count": 11,
   "metadata": {},
   "outputs": [],
   "source": [
    "# Keep only 750ml bottles.\n",
    "df_wine_com = df_wine_com[df_wine_com['ml'] == 750].copy()\n",
    "df_wine_com.drop(columns=['ml'], inplace=True)"
   ]
  },
  {
   "cell_type": "code",
   "execution_count": 12,
   "metadata": {},
   "outputs": [
    {
     "data": {
      "text/plain": [
       "wine_variety\n",
       "red          8983\n",
       "white        3687\n",
       "sparkling     959\n",
       "rose          413\n",
       "other         257\n",
       "Name: count, dtype: int64"
      ]
     },
     "execution_count": 12,
     "metadata": {},
     "output_type": "execute_result"
    }
   ],
   "source": [
    "df_wine_com['color_wine'] = df_wine_com['color_wine'].apply(cf.remove_accents)\n",
    "df_wine_com['wine_variety'] = df_wine_com['color_wine'].apply(cf.get_wine_variety)\n",
    "df_wine_com.drop(columns=['color_wine'], inplace=True)\n",
    "# Remove 'other' wine varieties\n",
    "df_wine_com = df_wine_com[df_wine_com['wine_variety'] != 'unknown'].copy()\n",
    "df_wine_com['wine_variety'].value_counts()"
   ]
  },
  {
   "cell_type": "code",
   "execution_count": 13,
   "metadata": {},
   "outputs": [],
   "source": [
    "# Rename columns \n",
    "df_wine_com.rename(columns = {'names' : 'name',\n",
    "                            'prices' : 'price',\n",
    "                            'ratings' : 'rating',\n",
    "                            'ratingsnum': 'rating_qty', \n",
    "                            'rates' : 'reviewed_by'}, inplace = True)"
   ]
  },
  {
   "cell_type": "code",
   "execution_count": 14,
   "metadata": {},
   "outputs": [],
   "source": [
    "df_wine_com['name'] = df_wine_com['name'].apply(cf.uniform_strings)"
   ]
  },
  {
   "cell_type": "code",
   "execution_count": 15,
   "metadata": {},
   "outputs": [],
   "source": [
    "df_wine_com['region'] = df_wine_com['countrys'].apply(cf.get_region)\n",
    "# Drop 33 wines where region was not found \n",
    "df_wine_com = df_wine_com[df_wine_com['region'] != 'unknown'].copy()"
   ]
  },
  {
   "cell_type": "code",
   "execution_count": 16,
   "metadata": {},
   "outputs": [
    {
     "data": {
      "text/plain": [
       "country\n",
       "France          4128\n",
       "California      2845\n",
       "Italy           2381\n",
       "unknown         1363\n",
       "Spain            926\n",
       "Australia        433\n",
       "Argentina        407\n",
       "Washington       300\n",
       "Germany          258\n",
       "Oregon           241\n",
       "Portugal         219\n",
       "Chile            219\n",
       "New Zealand      202\n",
       "Other U.S.       107\n",
       "South Africa      99\n",
       "Austria           74\n",
       "Greece            62\n",
       "Canada             2\n",
       "Name: count, dtype: int64"
      ]
     },
     "execution_count": 16,
     "metadata": {},
     "output_type": "execute_result"
    }
   ],
   "source": [
    "# Extract country name from country column \n",
    "df_wine_com['country'] = df_wine_com['countrys'].apply(cf.get_country)\n",
    "df_wine_com['country'].value_counts()"
   ]
  },
  {
   "cell_type": "code",
   "execution_count": 17,
   "metadata": {},
   "outputs": [
    {
     "data": {
      "text/html": [
       "<div>\n",
       "<style scoped>\n",
       "    .dataframe tbody tr th:only-of-type {\n",
       "        vertical-align: middle;\n",
       "    }\n",
       "\n",
       "    .dataframe tbody tr th {\n",
       "        vertical-align: top;\n",
       "    }\n",
       "\n",
       "    .dataframe thead th {\n",
       "        text-align: right;\n",
       "    }\n",
       "</style>\n",
       "<table border=\"1\" class=\"dataframe\">\n",
       "  <thead>\n",
       "    <tr style=\"text-align: right;\">\n",
       "      <th></th>\n",
       "      <th>name</th>\n",
       "      <th>price</th>\n",
       "      <th>rating</th>\n",
       "      <th>rating_qty</th>\n",
       "      <th>countrys</th>\n",
       "      <th>abv</th>\n",
       "      <th>reviewed_by</th>\n",
       "      <th>vintage</th>\n",
       "      <th>wine_variety</th>\n",
       "      <th>region</th>\n",
       "      <th>country</th>\n",
       "    </tr>\n",
       "  </thead>\n",
       "  <tbody>\n",
       "    <tr>\n",
       "      <th>6</th>\n",
       "      <td>1000 Stories Bourbon Barrel Aged Prospectors P...</td>\n",
       "      <td>19.99</td>\n",
       "      <td>0.0</td>\n",
       "      <td>0</td>\n",
       "      <td>Cabernet Sauvignon from California</td>\n",
       "      <td>0.0</td>\n",
       "      <td>WW</td>\n",
       "      <td>2020</td>\n",
       "      <td>red</td>\n",
       "      <td>California</td>\n",
       "      <td>unknown</td>\n",
       "    </tr>\n",
       "    <tr>\n",
       "      <th>7</th>\n",
       "      <td>1000 Stories American Barrel Aged Pinot Noir 2020</td>\n",
       "      <td>17.99</td>\n",
       "      <td>0.0</td>\n",
       "      <td>0</td>\n",
       "      <td>Pinot Noir from California</td>\n",
       "      <td>14.5</td>\n",
       "      <td>0</td>\n",
       "      <td>2020</td>\n",
       "      <td>red</td>\n",
       "      <td>California</td>\n",
       "      <td>unknown</td>\n",
       "    </tr>\n",
       "    <tr>\n",
       "      <th>8</th>\n",
       "      <td>1000 Stories Bourbon Barrel Aged Zinfandel 2020</td>\n",
       "      <td>18.99</td>\n",
       "      <td>3.8</td>\n",
       "      <td>11</td>\n",
       "      <td>Zinfandel from California</td>\n",
       "      <td>15.5</td>\n",
       "      <td>WW</td>\n",
       "      <td>2020</td>\n",
       "      <td>red</td>\n",
       "      <td>California</td>\n",
       "      <td>unknown</td>\n",
       "    </tr>\n",
       "    <tr>\n",
       "      <th>9</th>\n",
       "      <td>1000 Stories Bourbon Barrel Aged Chardonnay 2019</td>\n",
       "      <td>19.99</td>\n",
       "      <td>4.4</td>\n",
       "      <td>10</td>\n",
       "      <td>Chardonnay from California</td>\n",
       "      <td>14.4</td>\n",
       "      <td>TP</td>\n",
       "      <td>2019</td>\n",
       "      <td>white</td>\n",
       "      <td>California</td>\n",
       "      <td>unknown</td>\n",
       "    </tr>\n",
       "    <tr>\n",
       "      <th>10</th>\n",
       "      <td>1000 Stories Bourbon Barrel Aged Prospectors P...</td>\n",
       "      <td>18.99</td>\n",
       "      <td>0.0</td>\n",
       "      <td>0</td>\n",
       "      <td>Cabernet Sauvignon from California</td>\n",
       "      <td>14.9</td>\n",
       "      <td>0</td>\n",
       "      <td>2018</td>\n",
       "      <td>red</td>\n",
       "      <td>California</td>\n",
       "      <td>unknown</td>\n",
       "    </tr>\n",
       "    <tr>\n",
       "      <th>...</th>\n",
       "      <td>...</td>\n",
       "      <td>...</td>\n",
       "      <td>...</td>\n",
       "      <td>...</td>\n",
       "      <td>...</td>\n",
       "      <td>...</td>\n",
       "      <td>...</td>\n",
       "      <td>...</td>\n",
       "      <td>...</td>\n",
       "      <td>...</td>\n",
       "      <td>...</td>\n",
       "    </tr>\n",
       "    <tr>\n",
       "      <th>15210</th>\n",
       "      <td>Vinos Atlantico Vera Vinho Verde Rose 2021</td>\n",
       "      <td>12.99</td>\n",
       "      <td>0.0</td>\n",
       "      <td>0</td>\n",
       "      <td>Rosé from Portugal</td>\n",
       "      <td>11.5</td>\n",
       "      <td>0</td>\n",
       "      <td>2021</td>\n",
       "      <td>rose</td>\n",
       "      <td>Portugal</td>\n",
       "      <td>unknown</td>\n",
       "    </tr>\n",
       "    <tr>\n",
       "      <th>15212</th>\n",
       "      <td>Vinos De Arganza Marques De Montejos Mencia 2020</td>\n",
       "      <td>13.99</td>\n",
       "      <td>0.0</td>\n",
       "      <td>0</td>\n",
       "      <td>Mencia from Spain</td>\n",
       "      <td>13.0</td>\n",
       "      <td>JS, WW</td>\n",
       "      <td>2020</td>\n",
       "      <td>red</td>\n",
       "      <td>Spain</td>\n",
       "      <td>unknown</td>\n",
       "    </tr>\n",
       "    <tr>\n",
       "      <th>15214</th>\n",
       "      <td>Vinos De Arganza Alvarez De Toledo Godello 2021</td>\n",
       "      <td>11.99</td>\n",
       "      <td>4.8</td>\n",
       "      <td>29</td>\n",
       "      <td>Godello from Spain</td>\n",
       "      <td>0.0</td>\n",
       "      <td>WW</td>\n",
       "      <td>2021</td>\n",
       "      <td>white</td>\n",
       "      <td>Spain</td>\n",
       "      <td>unknown</td>\n",
       "    </tr>\n",
       "    <tr>\n",
       "      <th>15215</th>\n",
       "      <td>Vinos De Arganza Palacio De Arganza Cabernet S...</td>\n",
       "      <td>13.99</td>\n",
       "      <td>4.8</td>\n",
       "      <td>30</td>\n",
       "      <td>Other Red Blends from Spain</td>\n",
       "      <td>13.0</td>\n",
       "      <td>JS, WW</td>\n",
       "      <td>2020</td>\n",
       "      <td>red</td>\n",
       "      <td>Spain</td>\n",
       "      <td>unknown</td>\n",
       "    </tr>\n",
       "    <tr>\n",
       "      <th>15216</th>\n",
       "      <td>Vinos De Arganza Palacio De Arganza Cabernet S...</td>\n",
       "      <td>13.99</td>\n",
       "      <td>4.5</td>\n",
       "      <td>38</td>\n",
       "      <td>Cabernet Sauvignon from Spain</td>\n",
       "      <td>13.0</td>\n",
       "      <td>JS, WW</td>\n",
       "      <td>2020</td>\n",
       "      <td>red</td>\n",
       "      <td>Spain</td>\n",
       "      <td>unknown</td>\n",
       "    </tr>\n",
       "  </tbody>\n",
       "</table>\n",
       "<p>1363 rows × 11 columns</p>\n",
       "</div>"
      ],
      "text/plain": [
       "                                                    name  price  rating  \\\n",
       "6      1000 Stories Bourbon Barrel Aged Prospectors P...  19.99     0.0   \n",
       "7      1000 Stories American Barrel Aged Pinot Noir 2020  17.99     0.0   \n",
       "8        1000 Stories Bourbon Barrel Aged Zinfandel 2020  18.99     3.8   \n",
       "9       1000 Stories Bourbon Barrel Aged Chardonnay 2019  19.99     4.4   \n",
       "10     1000 Stories Bourbon Barrel Aged Prospectors P...  18.99     0.0   \n",
       "...                                                  ...    ...     ...   \n",
       "15210         Vinos Atlantico Vera Vinho Verde Rose 2021  12.99     0.0   \n",
       "15212   Vinos De Arganza Marques De Montejos Mencia 2020  13.99     0.0   \n",
       "15214    Vinos De Arganza Alvarez De Toledo Godello 2021  11.99     4.8   \n",
       "15215  Vinos De Arganza Palacio De Arganza Cabernet S...  13.99     4.8   \n",
       "15216  Vinos De Arganza Palacio De Arganza Cabernet S...  13.99     4.5   \n",
       "\n",
       "       rating_qty                            countrys   abv reviewed_by  \\\n",
       "6               0  Cabernet Sauvignon from California   0.0          WW   \n",
       "7               0          Pinot Noir from California  14.5           0   \n",
       "8              11           Zinfandel from California  15.5          WW   \n",
       "9              10          Chardonnay from California  14.4          TP   \n",
       "10              0  Cabernet Sauvignon from California  14.9           0   \n",
       "...           ...                                 ...   ...         ...   \n",
       "15210           0                  Rosé from Portugal  11.5           0   \n",
       "15212           0                   Mencia from Spain  13.0      JS, WW   \n",
       "15214          29                  Godello from Spain   0.0          WW   \n",
       "15215          30         Other Red Blends from Spain  13.0      JS, WW   \n",
       "15216          38       Cabernet Sauvignon from Spain  13.0      JS, WW   \n",
       "\n",
       "      vintage wine_variety      region  country  \n",
       "6        2020          red  California  unknown  \n",
       "7        2020          red  California  unknown  \n",
       "8        2020          red  California  unknown  \n",
       "9        2019        white  California  unknown  \n",
       "10       2018          red  California  unknown  \n",
       "...       ...          ...         ...      ...  \n",
       "15210    2021         rose    Portugal  unknown  \n",
       "15212    2020          red       Spain  unknown  \n",
       "15214    2021        white       Spain  unknown  \n",
       "15215    2020          red       Spain  unknown  \n",
       "15216    2020          red       Spain  unknown  \n",
       "\n",
       "[1363 rows x 11 columns]"
      ]
     },
     "execution_count": 17,
     "metadata": {},
     "output_type": "execute_result"
    }
   ],
   "source": [
    "# Investigate the unknown countries \n",
    "df_wine_com[df_wine_com['country'] == 'unknown']"
   ]
  },
  {
   "cell_type": "code",
   "execution_count": 18,
   "metadata": {},
   "outputs": [],
   "source": [
    "df_wine_com.loc[df_wine_com['region'].isin(cf.us_states), 'country'] = 'United States'"
   ]
  },
  {
   "cell_type": "code",
   "execution_count": 19,
   "metadata": {},
   "outputs": [
    {
     "data": {
      "text/plain": [
       "region\n",
       "Israel               115\n",
       "South Africa         105\n",
       "Chile                 70\n",
       "Portugal              70\n",
       "Spain                 69\n",
       "France                60\n",
       "Italy                 55\n",
       "Argentina             32\n",
       "Austria               23\n",
       "Uruguay               23\n",
       "Greece                23\n",
       "Australia             20\n",
       "Lebanon               11\n",
       "England               10\n",
       "Slovenia               9\n",
       "Germany                9\n",
       "Hungary                8\n",
       "Croatia                6\n",
       "Brazil                 5\n",
       "Armenia                3\n",
       "New Zealand            3\n",
       "China                  2\n",
       "Other                  2\n",
       "Macedonia (FYROM)      2\n",
       "Other U.S.             1\n",
       "Name: count, dtype: int64"
      ]
     },
     "execution_count": 19,
     "metadata": {},
     "output_type": "execute_result"
    }
   ],
   "source": [
    "# All unknown countries are cases where no region was available. The country was populated in the region or a US state. \n",
    "region_problems = df_wine_com[df_wine_com['country'] == 'unknown']\n",
    "region_problems['region'].value_counts()"
   ]
  },
  {
   "cell_type": "code",
   "execution_count": 20,
   "metadata": {},
   "outputs": [],
   "source": [
    "# move those regions that are countries to the country column \n",
    "df_wine_com.loc[df_wine_com['country'] == 'unknown', 'country'] = df_wine_com.loc[df_wine_com['country'] == 'unknown', 'region']\n",
    "# make those regions that are countries 'unknown'\n",
    "df_wine_com.loc[df_wine_com['region'] == df_wine_com['country'], 'region'] = 'unknown'\n",
    "# combine U.S. and Other U.S.\n",
    "df_wine_com.loc[df_wine_com['country'] == 'Other U.S.', 'country'] = 'United States'\n",
    "# combine all U.S. and Other U.S.\n",
    "df_wine_com.loc[df_wine_com['country'] == 'California', 'country'] = 'United States'\n",
    "df_wine_com.loc[df_wine_com['country'] == 'Washington', 'country'] = 'United States'\n",
    "df_wine_com.loc[df_wine_com['country'] == 'Oregon', 'country'] = 'United States'\n",
    "# rename macedonia \n",
    "df_wine_com.loc[df_wine_com['country'] == 'Macedonia (FYROM)', 'country'] = 'Macedonia'"
   ]
  },
  {
   "cell_type": "code",
   "execution_count": 21,
   "metadata": {},
   "outputs": [],
   "source": [
    "df_wine_com['grape_variety'] = df_wine_com['countrys'].apply(cf.get_grape_1)"
   ]
  },
  {
   "cell_type": "code",
   "execution_count": 22,
   "metadata": {
    "tags": []
   },
   "outputs": [],
   "source": [
    "# EXTRACT PRODUCER NAMES \n",
    "# Step 1 - Match with producers from other datasets and custom list in cleaning_functions.py \n",
    "all_producers = list(df_viv_1['winery'].unique()) + list(df_viv_2['winery'].unique()) + list(df_viv_3['winery'].unique()) + cf.custom_producer_list\n",
    "all_producers  = [cf.uniform_strings(word) for word in all_producers]\n",
    "all_producers.remove('Domaine De La')\n",
    "df_wine_com['name'] = df_wine_com['name'].apply(cf.uniform_strings)"
   ]
  },
  {
   "cell_type": "code",
   "execution_count": 23,
   "metadata": {},
   "outputs": [],
   "source": [
    "# 80% of producers matched by finding producer names from other datasets and custom list in cleaning_functions.py\n",
    "# 2741 producers matched of total 14266\n",
    "df_wine_com['producer_clean'] = df_wine_com['name'].apply(lambda x: cf.extract_string(x, all_producers))"
   ]
  },
  {
   "cell_type": "code",
   "execution_count": 24,
   "metadata": {},
   "outputs": [],
   "source": [
    "# STEP 2 - Isolate part before grape names in column 'name' import list of grape varieties.\n",
    "# This removes grape and year from X leaving X for review. X producers remain that have not be captured by first 2 steps. \n",
    "grape_list_long = pd.read_csv('../data/grape_varieties.csv')\n",
    "grape_list_long.drop(columns = ['Unnamed: 0'], inplace = True)\n",
    "varietal_set_long = set(grape_list_long['Variety'].dropna().apply(lambda x: cf.uniform_strings(x).strip().lower()))\n",
    "df_wine_com['producer_varietal_removed'] = df_wine_com['name'].apply(lambda x : cf.remove_varietal(x, varietal_set_long))"
   ]
  },
  {
   "cell_type": "code",
   "execution_count": 25,
   "metadata": {},
   "outputs": [],
   "source": [
    "df_wine_com.loc[df_wine_com['abv'] == 0, 'abv'] = np.nan"
   ]
  },
  {
   "cell_type": "code",
   "execution_count": 26,
   "metadata": {},
   "outputs": [
    {
     "data": {
      "text/plain": [
       "(1431, 14)"
      ]
     },
     "execution_count": 26,
     "metadata": {},
     "output_type": "execute_result"
    }
   ],
   "source": [
    "# 1431 producers remain that have not be captured by first 2 steps. \n",
    "df_wine_com[(df_wine_com['producer_varietal_removed'] == 'review') & (df_wine_com['producer_clean'] == 'review')].shape"
   ]
  },
  {
   "cell_type": "code",
   "execution_count": 27,
   "metadata": {},
   "outputs": [],
   "source": [
    "df_wine_com['producer_dirty'] = df_wine_com['name'].apply(cf.get_dirty_producer)"
   ]
  },
  {
   "cell_type": "code",
   "execution_count": 28,
   "metadata": {},
   "outputs": [],
   "source": [
    "shorterned_df = df_wine_com[(df_wine_com['producer_clean'] == 'review') &(df_wine_com['producer_varietal_removed'] == 'review')]"
   ]
  },
  {
   "cell_type": "code",
   "execution_count": 29,
   "metadata": {},
   "outputs": [],
   "source": [
    "all_remaining_producers =  shorterned_df['producer_dirty'].value_counts().index\n",
    "all_remaining_producers = all_remaining_producers.sort_values()"
   ]
  },
  {
   "cell_type": "code",
   "execution_count": 30,
   "metadata": {},
   "outputs": [
    {
     "data": {
      "text/plain": [
       "count    14266.000000\n",
       "mean        10.439577\n",
       "std         49.378628\n",
       "min          0.000000\n",
       "25%          0.000000\n",
       "50%          0.000000\n",
       "75%          6.000000\n",
       "max       1829.000000\n",
       "Name: rating_qty, dtype: float64"
      ]
     },
     "execution_count": 30,
     "metadata": {},
     "output_type": "execute_result"
    }
   ],
   "source": [
    "# No minimum number of ratings set for this scrape. \n",
    "df_wine_com['rating_qty'].describe()"
   ]
  },
  {
   "cell_type": "code",
   "execution_count": 31,
   "metadata": {},
   "outputs": [],
   "source": [
    "df_wine_com['combined_methods_producer'] = df_wine_com.apply(cf.combine_methods, axis = 1)"
   ]
  },
  {
   "cell_type": "code",
   "execution_count": 32,
   "metadata": {},
   "outputs": [],
   "source": [
    "df_wine_com['producer'] = df_wine_com['combined_methods_producer']"
   ]
  },
  {
   "cell_type": "code",
   "execution_count": 33,
   "metadata": {},
   "outputs": [
    {
     "data": {
      "text/html": [
       "<div>\n",
       "<style scoped>\n",
       "    .dataframe tbody tr th:only-of-type {\n",
       "        vertical-align: middle;\n",
       "    }\n",
       "\n",
       "    .dataframe tbody tr th {\n",
       "        vertical-align: top;\n",
       "    }\n",
       "\n",
       "    .dataframe thead th {\n",
       "        text-align: right;\n",
       "    }\n",
       "</style>\n",
       "<table border=\"1\" class=\"dataframe\">\n",
       "  <thead>\n",
       "    <tr style=\"text-align: right;\">\n",
       "      <th></th>\n",
       "      <th>name</th>\n",
       "      <th>price</th>\n",
       "      <th>rating</th>\n",
       "      <th>rating_qty</th>\n",
       "      <th>countrys</th>\n",
       "      <th>abv</th>\n",
       "      <th>reviewed_by</th>\n",
       "      <th>vintage</th>\n",
       "      <th>wine_variety</th>\n",
       "      <th>region</th>\n",
       "      <th>country</th>\n",
       "      <th>grape_variety</th>\n",
       "      <th>producer_clean</th>\n",
       "      <th>producer_varietal_removed</th>\n",
       "      <th>producer_dirty</th>\n",
       "      <th>combined_methods_producer</th>\n",
       "      <th>producer</th>\n",
       "    </tr>\n",
       "  </thead>\n",
       "  <tbody>\n",
       "    <tr>\n",
       "      <th>3810</th>\n",
       "      <td>Chateau Petrus 2016</td>\n",
       "      <td>9999.99</td>\n",
       "      <td>4.7</td>\n",
       "      <td>11</td>\n",
       "      <td>Bordeaux Red Blends from Pomerol, Bordeaux, Fr...</td>\n",
       "      <td>14.5</td>\n",
       "      <td>JS, RP, D, JD, WE, WS</td>\n",
       "      <td>2016</td>\n",
       "      <td>red</td>\n",
       "      <td>Pomerol</td>\n",
       "      <td>France</td>\n",
       "      <td>Bordeaux Red Blends</td>\n",
       "      <td>Petrus</td>\n",
       "      <td>review</td>\n",
       "      <td>Chateau Petrus</td>\n",
       "      <td>Petrus</td>\n",
       "      <td>Petrus</td>\n",
       "    </tr>\n",
       "  </tbody>\n",
       "</table>\n",
       "</div>"
      ],
      "text/plain": [
       "                     name    price  rating  rating_qty  \\\n",
       "3810  Chateau Petrus 2016  9999.99     4.7          11   \n",
       "\n",
       "                                               countrys   abv  \\\n",
       "3810  Bordeaux Red Blends from Pomerol, Bordeaux, Fr...  14.5   \n",
       "\n",
       "                reviewed_by vintage wine_variety   region country  \\\n",
       "3810  JS, RP, D, JD, WE, WS    2016          red  Pomerol  France   \n",
       "\n",
       "            grape_variety producer_clean producer_varietal_removed  \\\n",
       "3810  Bordeaux Red Blends         Petrus                    review   \n",
       "\n",
       "      producer_dirty combined_methods_producer producer  \n",
       "3810  Chateau Petrus                    Petrus   Petrus  "
      ]
     },
     "execution_count": 33,
     "metadata": {},
     "output_type": "execute_result"
    }
   ],
   "source": [
    "# Investgate wine of price 9999.99\n",
    "df_wine_com[df_wine_com['price'] == 9999.99]\n",
    "# This is a collectable highly prized wine producer Chateau Petrus, explaining the high price"
   ]
  },
  {
   "cell_type": "code",
   "execution_count": 34,
   "metadata": {},
   "outputs": [],
   "source": [
    "# Add boolean column for source of data\n",
    "df_wine_com['from_vivino'] = False\n",
    "df_wine_com.drop(columns=['producer_clean', 'producer_varietal_removed',\n",
    "                            'producer_dirty', 'combined_methods_producer','countrys' ], inplace=True)"
   ]
  },
  {
   "cell_type": "markdown",
   "metadata": {},
   "source": [
    "# Cleaning Vivino 1 Dataset"
   ]
  },
  {
   "cell_type": "code",
   "execution_count": 35,
   "metadata": {},
   "outputs": [
    {
     "name": "stdout",
     "output_type": "stream",
     "text": [
      "(34664, 9)\n"
     ]
    },
    {
     "data": {
      "text/html": [
       "<div>\n",
       "<style scoped>\n",
       "    .dataframe tbody tr th:only-of-type {\n",
       "        vertical-align: middle;\n",
       "    }\n",
       "\n",
       "    .dataframe tbody tr th {\n",
       "        vertical-align: top;\n",
       "    }\n",
       "\n",
       "    .dataframe thead th {\n",
       "        text-align: right;\n",
       "    }\n",
       "</style>\n",
       "<table border=\"1\" class=\"dataframe\">\n",
       "  <thead>\n",
       "    <tr style=\"text-align: right;\">\n",
       "      <th></th>\n",
       "      <th>name</th>\n",
       "      <th>country</th>\n",
       "      <th>region</th>\n",
       "      <th>winery</th>\n",
       "      <th>rating</th>\n",
       "      <th>numberofratings</th>\n",
       "      <th>price</th>\n",
       "      <th>year</th>\n",
       "      <th>category</th>\n",
       "    </tr>\n",
       "  </thead>\n",
       "  <tbody>\n",
       "    <tr>\n",
       "      <th>0</th>\n",
       "      <td>Pomerol 2011</td>\n",
       "      <td>France</td>\n",
       "      <td>Pomerol</td>\n",
       "      <td>Château La Providence</td>\n",
       "      <td>4.2</td>\n",
       "      <td>100</td>\n",
       "      <td>95.00</td>\n",
       "      <td>2011</td>\n",
       "      <td>red</td>\n",
       "    </tr>\n",
       "    <tr>\n",
       "      <th>1</th>\n",
       "      <td>Lirac 2017</td>\n",
       "      <td>France</td>\n",
       "      <td>Lirac</td>\n",
       "      <td>Château Mont-Redon</td>\n",
       "      <td>4.3</td>\n",
       "      <td>100</td>\n",
       "      <td>15.50</td>\n",
       "      <td>2017</td>\n",
       "      <td>red</td>\n",
       "    </tr>\n",
       "    <tr>\n",
       "      <th>2</th>\n",
       "      <td>Erta e China Rosso di Toscana 2015</td>\n",
       "      <td>Italy</td>\n",
       "      <td>Toscana</td>\n",
       "      <td>Renzo Masi</td>\n",
       "      <td>3.9</td>\n",
       "      <td>100</td>\n",
       "      <td>7.45</td>\n",
       "      <td>2015</td>\n",
       "      <td>red</td>\n",
       "    </tr>\n",
       "    <tr>\n",
       "      <th>3</th>\n",
       "      <td>Bardolino 2019</td>\n",
       "      <td>Italy</td>\n",
       "      <td>Bardolino</td>\n",
       "      <td>Cavalchina</td>\n",
       "      <td>3.5</td>\n",
       "      <td>100</td>\n",
       "      <td>8.72</td>\n",
       "      <td>2019</td>\n",
       "      <td>red</td>\n",
       "    </tr>\n",
       "    <tr>\n",
       "      <th>4</th>\n",
       "      <td>Ried Scheibner Pinot Noir 2016</td>\n",
       "      <td>Austria</td>\n",
       "      <td>Carnuntum</td>\n",
       "      <td>Markowitsch</td>\n",
       "      <td>3.9</td>\n",
       "      <td>100</td>\n",
       "      <td>29.15</td>\n",
       "      <td>2016</td>\n",
       "      <td>red</td>\n",
       "    </tr>\n",
       "  </tbody>\n",
       "</table>\n",
       "</div>"
      ],
      "text/plain": [
       "                                 name  country     region  \\\n",
       "0                        Pomerol 2011   France    Pomerol   \n",
       "1                          Lirac 2017   France      Lirac   \n",
       "2  Erta e China Rosso di Toscana 2015    Italy    Toscana   \n",
       "3                      Bardolino 2019    Italy  Bardolino   \n",
       "4      Ried Scheibner Pinot Noir 2016  Austria  Carnuntum   \n",
       "\n",
       "                  winery  rating  numberofratings  price  year category  \n",
       "0  Château La Providence     4.2              100  95.00  2011      red  \n",
       "1     Château Mont-Redon     4.3              100  15.50  2017      red  \n",
       "2             Renzo Masi     3.9              100   7.45  2015      red  \n",
       "3             Cavalchina     3.5              100   8.72  2019      red  \n",
       "4            Markowitsch     3.9              100  29.15  2016      red  "
      ]
     },
     "execution_count": 35,
     "metadata": {},
     "output_type": "execute_result"
    }
   ],
   "source": [
    "df_viv_1.drop_duplicates(inplace=True)\n",
    "print(df_viv_1.shape)\n",
    "df_viv_1.head()"
   ]
  },
  {
   "cell_type": "code",
   "execution_count": 36,
   "metadata": {},
   "outputs": [],
   "source": [
    "df_viv_1.rename(columns = {'winery' : 'producer', \n",
    "                           'numberofratings' : 'rating_qty', \n",
    "                           'category' : 'wine_variety',\n",
    "                           'year' : 'vintage'\n",
    "                           }, inplace = True)"
   ]
  },
  {
   "cell_type": "code",
   "execution_count": 37,
   "metadata": {},
   "outputs": [],
   "source": [
    "# Remove accents from columns.\n",
    "df_viv_1['name'] = df_viv_1['name'].apply(cf.uniform_strings)\n",
    "df_viv_1['producer'] = df_viv_1['producer'].apply(cf.uniform_strings)\n",
    "df_viv_1['region'] = df_viv_1['region'].apply(cf.uniform_strings)\n",
    "df_viv_1['country'] = df_viv_1['country'].apply(cf.uniform_strings)"
   ]
  },
  {
   "cell_type": "code",
   "execution_count": 38,
   "metadata": {},
   "outputs": [],
   "source": [
    "# Rename problem column\n",
    "df_viv_1.loc[df_viv_1['producer'] == 'Domaine De La', 'producer'] = 'Domaine De La Rouge'"
   ]
  },
  {
   "cell_type": "code",
   "execution_count": 39,
   "metadata": {},
   "outputs": [
    {
     "name": "stdout",
     "output_type": "stream",
     "text": [
      "<class 'pandas.core.frame.DataFrame'>\n",
      "RangeIndex: 34664 entries, 0 to 34663\n",
      "Data columns (total 9 columns):\n",
      " #   Column        Non-Null Count  Dtype  \n",
      "---  ------        --------------  -----  \n",
      " 0   name          34664 non-null  object \n",
      " 1   country       34664 non-null  object \n",
      " 2   region        34664 non-null  object \n",
      " 3   producer      34664 non-null  object \n",
      " 4   rating        34664 non-null  float64\n",
      " 5   rating_qty    34664 non-null  int64  \n",
      " 6   price         34664 non-null  float64\n",
      " 7   vintage       34664 non-null  object \n",
      " 8   wine_variety  34664 non-null  object \n",
      "dtypes: float64(2), int64(1), object(6)\n",
      "memory usage: 2.4+ MB\n"
     ]
    }
   ],
   "source": [
    "df_viv_1.info()"
   ]
  },
  {
   "cell_type": "code",
   "execution_count": 40,
   "metadata": {},
   "outputs": [],
   "source": [
    "# Make name formatting structure the same as wine_com dataframe.\n",
    "df_viv_1['name'] = df_viv_1['producer'] + ' ' + df_viv_1['name']"
   ]
  },
  {
   "cell_type": "code",
   "execution_count": 41,
   "metadata": {},
   "outputs": [],
   "source": [
    "df_viv_1.loc[df_viv_1['vintage'] == 'N.V.', 'vintage'] = np.nan"
   ]
  },
  {
   "cell_type": "code",
   "execution_count": 42,
   "metadata": {},
   "outputs": [
    {
     "data": {
      "text/plain": [
       "count    34664.000000\n",
       "mean       415.287445\n",
       "std        899.687438\n",
       "min         25.000000\n",
       "25%         66.000000\n",
       "50%        157.000000\n",
       "75%        401.000000\n",
       "max      20293.000000\n",
       "Name: rating_qty, dtype: float64"
      ]
     },
     "execution_count": 42,
     "metadata": {},
     "output_type": "execute_result"
    }
   ],
   "source": [
    "# Minimum number of ratings 25 for this scrape. \n",
    "df_viv_1['rating_qty'].describe()"
   ]
  },
  {
   "cell_type": "code",
   "execution_count": 43,
   "metadata": {},
   "outputs": [
    {
     "data": {
      "text/plain": [
       "count    34664.000000\n",
       "mean        42.471993\n",
       "std         92.150517\n",
       "min          3.850000\n",
       "25%         11.590000\n",
       "50%         19.750000\n",
       "75%         41.400000\n",
       "max       3700.660000\n",
       "Name: price, dtype: float64"
      ]
     },
     "execution_count": 43,
     "metadata": {},
     "output_type": "execute_result"
    }
   ],
   "source": [
    "# Convert price to USD using https://www.xe.com/currencytables/ at date of scrape.\n",
    "df_viv_1['price'] = round(df_viv_1['price'] * 1.0849853073421676, 2)\n",
    "df_viv_1['price'].describe()"
   ]
  },
  {
   "cell_type": "code",
   "execution_count": 44,
   "metadata": {},
   "outputs": [],
   "source": [
    "df_viv_1['abv'] = np.nan\n",
    "df_viv_1['reviewed_by'] = 'unknown'\n",
    "df_viv_1['from_vivino'] = True"
   ]
  },
  {
   "cell_type": "code",
   "execution_count": 45,
   "metadata": {
    "tags": [
     "REVISIT - MAY AFFECT LATER DATA!"
    ]
   },
   "outputs": [],
   "source": [
    "# Get grape variety - iteratively added grape varieties to find those missed.\n",
    "grape_varieties =(list(df_wine_com['grape_variety'].unique()) + ['red blend', 'shiraz', 'Pomerol', 'Lirac', 'Rosso di Toscana', \n",
    "                                                                 'Bardolino', 'Gigondas', 'Chianti', 'Monastrell', 'Sancerre Rouge',\n",
    "                                                                 'Saint-Joseph', 'Fronsac','Roma Rosso','Garnacha','Barolo',\n",
    "                                                                 'Côte-Rôtie','Madiran','Ruché','Tempranillo','Margaux', 'syrah', \n",
    "                                                                 'blend', 'Rioja', 'Super Tuscan', 'Chianti', 'pinot nero',\n",
    "                                                                 'Carménère', 'Mencía', 'Mourvèdre', \"Blaufränkisch\", \"Corvina\",\n",
    "                                                                 \"Rondinella\", \"Molinara\", \"Sangiovese\", 'baga', \n",
    "                                                                 \"Corvina\", \"Rondinella\", \"Molinara\", \"Trincadeira\",  \"Prieto Picudo\"])\n",
    "grape_varieties = [cf.uniform_strings(i) for i in grape_varieties]\n",
    "\n",
    "\n",
    "df_viv_1['grape_variety'] = df_viv_1['name'].apply(lambda x: cf.extract_varietal(x, grape_varieties))"
   ]
  },
  {
   "cell_type": "markdown",
   "metadata": {},
   "source": [
    "# Cleaning Vivino 2 Dataset"
   ]
  },
  {
   "cell_type": "code",
   "execution_count": 46,
   "metadata": {},
   "outputs": [
    {
     "name": "stdout",
     "output_type": "stream",
     "text": [
      "(2018, 9)\n"
     ]
    },
    {
     "data": {
      "text/html": [
       "<div>\n",
       "<style scoped>\n",
       "    .dataframe tbody tr th:only-of-type {\n",
       "        vertical-align: middle;\n",
       "    }\n",
       "\n",
       "    .dataframe tbody tr th {\n",
       "        vertical-align: top;\n",
       "    }\n",
       "\n",
       "    .dataframe thead th {\n",
       "        text-align: right;\n",
       "    }\n",
       "</style>\n",
       "<table border=\"1\" class=\"dataframe\">\n",
       "  <thead>\n",
       "    <tr style=\"text-align: right;\">\n",
       "      <th></th>\n",
       "      <th>winery</th>\n",
       "      <th>year</th>\n",
       "      <th>wine_id</th>\n",
       "      <th>wine</th>\n",
       "      <th>rating</th>\n",
       "      <th>num_review</th>\n",
       "      <th>price</th>\n",
       "      <th>country</th>\n",
       "      <th>region</th>\n",
       "    </tr>\n",
       "  </thead>\n",
       "  <tbody>\n",
       "    <tr>\n",
       "      <th>0</th>\n",
       "      <td>Viña Oria</td>\n",
       "      <td>2019</td>\n",
       "      <td>1812139</td>\n",
       "      <td>Garnacha 2019</td>\n",
       "      <td>3.5</td>\n",
       "      <td>327</td>\n",
       "      <td>2.50</td>\n",
       "      <td>España</td>\n",
       "      <td>Cariñena</td>\n",
       "    </tr>\n",
       "    <tr>\n",
       "      <th>1</th>\n",
       "      <td>Ayuso</td>\n",
       "      <td>2017</td>\n",
       "      <td>2084964</td>\n",
       "      <td>Abadia del Roble Tinto 2017</td>\n",
       "      <td>2.9</td>\n",
       "      <td>52</td>\n",
       "      <td>2.54</td>\n",
       "      <td>España</td>\n",
       "      <td>La Mancha</td>\n",
       "    </tr>\n",
       "    <tr>\n",
       "      <th>2</th>\n",
       "      <td>Castillo de Liria</td>\n",
       "      <td>2020</td>\n",
       "      <td>1643745</td>\n",
       "      <td>Bobal - Shiraz 2020</td>\n",
       "      <td>3.4</td>\n",
       "      <td>85</td>\n",
       "      <td>2.56</td>\n",
       "      <td>España</td>\n",
       "      <td>Valencia</td>\n",
       "    </tr>\n",
       "    <tr>\n",
       "      <th>3</th>\n",
       "      <td>Castillo de Liria</td>\n",
       "      <td>2019</td>\n",
       "      <td>1643745</td>\n",
       "      <td>Bobal - Shiraz 2019</td>\n",
       "      <td>3.6</td>\n",
       "      <td>305</td>\n",
       "      <td>2.56</td>\n",
       "      <td>España</td>\n",
       "      <td>Valencia</td>\n",
       "    </tr>\n",
       "    <tr>\n",
       "      <th>4</th>\n",
       "      <td>Finca Venta de Don Quijote</td>\n",
       "      <td>2020</td>\n",
       "      <td>7166356</td>\n",
       "      <td>Tempranillo - Syrah 2020</td>\n",
       "      <td>3.6</td>\n",
       "      <td>129</td>\n",
       "      <td>2.72</td>\n",
       "      <td>España</td>\n",
       "      <td>Castilla</td>\n",
       "    </tr>\n",
       "  </tbody>\n",
       "</table>\n",
       "</div>"
      ],
      "text/plain": [
       "                       winery  year  wine_id                         wine  \\\n",
       "0                   Viña Oria  2019  1812139                Garnacha 2019   \n",
       "1                       Ayuso  2017  2084964  Abadia del Roble Tinto 2017   \n",
       "2           Castillo de Liria  2020  1643745          Bobal - Shiraz 2020   \n",
       "3           Castillo de Liria  2019  1643745          Bobal - Shiraz 2019   \n",
       "4  Finca Venta de Don Quijote  2020  7166356     Tempranillo - Syrah 2020   \n",
       "\n",
       "   rating  num_review  price country     region  \n",
       "0     3.5         327   2.50  España   Cariñena  \n",
       "1     2.9          52   2.54  España  La Mancha  \n",
       "2     3.4          85   2.56  España   Valencia  \n",
       "3     3.6         305   2.56  España   Valencia  \n",
       "4     3.6         129   2.72  España   Castilla  "
      ]
     },
     "execution_count": 46,
     "metadata": {},
     "output_type": "execute_result"
    }
   ],
   "source": [
    "df_viv_2.drop_duplicates(inplace=True)\n",
    "print(df_viv_2.shape)\n",
    "df_viv_2.head()"
   ]
  },
  {
   "cell_type": "code",
   "execution_count": 47,
   "metadata": {},
   "outputs": [],
   "source": [
    "df_viv_2.rename(columns = {'winery' : 'producer', \n",
    "                           'num_review' : 'rating_qty', \n",
    "                           'year' : 'vintage',\n",
    "                           'wine' : 'name'\n",
    "                           }, inplace = True)"
   ]
  },
  {
   "cell_type": "code",
   "execution_count": 48,
   "metadata": {},
   "outputs": [],
   "source": [
    "df_viv_2['name'] = df_viv_2['name'].apply(cf.uniform_strings)\n",
    "df_viv_2['producer'] = df_viv_2['producer'].apply(cf.uniform_strings)\n",
    "df_viv_2['region'] = df_viv_2['region'].apply(cf.uniform_strings)"
   ]
  },
  {
   "cell_type": "code",
   "execution_count": 49,
   "metadata": {},
   "outputs": [],
   "source": [
    "df_viv_2['grape_variety'] = df_viv_2['name'].apply(cf.get_grape_2)"
   ]
  },
  {
   "cell_type": "code",
   "execution_count": 50,
   "metadata": {},
   "outputs": [],
   "source": [
    "df_viv_2['name'] = df_viv_2['producer'] + ' ' + df_viv_2['name']\n",
    "df_viv_2['name'] = df_viv_2['name'].str.replace('-', '')\n",
    "df_viv_2['region'] = df_viv_2['region'].apply(cf.uniform_strings)\n",
    "df_viv_2['country'] = 'Spain'\n",
    "df_viv_2.loc[df_viv_2['vintage'] == 'N.V.', 'vintage'] = 'unknown'"
   ]
  },
  {
   "cell_type": "code",
   "execution_count": 51,
   "metadata": {},
   "outputs": [
    {
     "data": {
      "text/plain": [
       "count     2018.000000\n",
       "mean       321.930624\n",
       "std       1035.124164\n",
       "min         25.000000\n",
       "25%         49.000000\n",
       "50%        104.000000\n",
       "75%        260.750000\n",
       "max      29389.000000\n",
       "Name: rating_qty, dtype: float64"
      ]
     },
     "execution_count": 51,
     "metadata": {},
     "output_type": "execute_result"
    }
   ],
   "source": [
    "# Minimum number of ratings 25 for this scrape. Same as df_viv_1.\n",
    "df_viv_2['rating_qty'].describe()"
   ]
  },
  {
   "cell_type": "code",
   "execution_count": 52,
   "metadata": {},
   "outputs": [
    {
     "data": {
      "text/plain": [
       "count    2018.000000\n",
       "mean        9.711695\n",
       "std         2.746843\n",
       "min         2.800000\n",
       "25%         7.670000\n",
       "50%         9.915000\n",
       "75%        11.980000\n",
       "max        14.440000\n",
       "Name: price, dtype: float64"
      ]
     },
     "execution_count": 52,
     "metadata": {},
     "output_type": "execute_result"
    }
   ],
   "source": [
    "# Convert price to USD using https://www.xe.com/currencytables/ at date of scrape.\n",
    "df_viv_2['price'] = round(df_viv_2['price'] * 1.1195970296830366, 2)\n",
    "df_viv_2['price'].describe()"
   ]
  },
  {
   "cell_type": "code",
   "execution_count": 53,
   "metadata": {},
   "outputs": [],
   "source": [
    "df_viv_2['wine_variety'] = 'red'\n",
    "df_viv_2['abv'] = np.nan\n",
    "df_viv_2['reviewed_by'] = 'unknown'\n",
    "df_viv_2['from_vivino'] = True\n",
    "df_viv_2.drop(columns = 'wine_id', inplace=True)"
   ]
  },
  {
   "cell_type": "markdown",
   "metadata": {},
   "source": [
    "# Cleaning Vivino 3 Dataset"
   ]
  },
  {
   "cell_type": "code",
   "execution_count": 54,
   "metadata": {},
   "outputs": [
    {
     "name": "stdout",
     "output_type": "stream",
     "text": [
      "(10369, 8)\n"
     ]
    },
    {
     "data": {
      "text/html": [
       "<div>\n",
       "<style scoped>\n",
       "    .dataframe tbody tr th:only-of-type {\n",
       "        vertical-align: middle;\n",
       "    }\n",
       "\n",
       "    .dataframe tbody tr th {\n",
       "        vertical-align: top;\n",
       "    }\n",
       "\n",
       "    .dataframe thead th {\n",
       "        text-align: right;\n",
       "    }\n",
       "</style>\n",
       "<table border=\"1\" class=\"dataframe\">\n",
       "  <thead>\n",
       "    <tr style=\"text-align: right;\">\n",
       "      <th></th>\n",
       "      <th>wine_name</th>\n",
       "      <th>wine_year</th>\n",
       "      <th>wine_country</th>\n",
       "      <th>wine_region</th>\n",
       "      <th>winery</th>\n",
       "      <th>wine_rating</th>\n",
       "      <th>n_ratings</th>\n",
       "      <th>wine_price</th>\n",
       "    </tr>\n",
       "  </thead>\n",
       "  <tbody>\n",
       "    <tr>\n",
       "      <th>0</th>\n",
       "      <td>Merlot</td>\n",
       "      <td>2019</td>\n",
       "      <td>United States</td>\n",
       "      <td>California</td>\n",
       "      <td>Crane Lake</td>\n",
       "      <td>3.6</td>\n",
       "      <td>30</td>\n",
       "      <td>4.99</td>\n",
       "    </tr>\n",
       "    <tr>\n",
       "      <th>1</th>\n",
       "      <td>Cabernet Sauvignon</td>\n",
       "      <td>2011</td>\n",
       "      <td>United States</td>\n",
       "      <td>Columbia Valley</td>\n",
       "      <td>Hogue</td>\n",
       "      <td>3.3</td>\n",
       "      <td>76</td>\n",
       "      <td>4.95</td>\n",
       "    </tr>\n",
       "    <tr>\n",
       "      <th>2</th>\n",
       "      <td>Hot To Trot Smooth Red Blend</td>\n",
       "      <td>2013</td>\n",
       "      <td>United States</td>\n",
       "      <td>Columbia Valley</td>\n",
       "      <td>14 Hands</td>\n",
       "      <td>3.7</td>\n",
       "      <td>3917</td>\n",
       "      <td>4.99</td>\n",
       "    </tr>\n",
       "    <tr>\n",
       "      <th>3</th>\n",
       "      <td>Cabernet Sauvignon</td>\n",
       "      <td>2010</td>\n",
       "      <td>Chile</td>\n",
       "      <td>Maule Valley</td>\n",
       "      <td>Aromo</td>\n",
       "      <td>3.0</td>\n",
       "      <td>189</td>\n",
       "      <td>4.99</td>\n",
       "    </tr>\n",
       "    <tr>\n",
       "      <th>4</th>\n",
       "      <td>Loggia del Conte Chianti</td>\n",
       "      <td>2016</td>\n",
       "      <td>Italy</td>\n",
       "      <td>Chianti</td>\n",
       "      <td>Le Chiantigiane</td>\n",
       "      <td>3.3</td>\n",
       "      <td>149</td>\n",
       "      <td>4.99</td>\n",
       "    </tr>\n",
       "  </tbody>\n",
       "</table>\n",
       "</div>"
      ],
      "text/plain": [
       "                      wine_name  wine_year   wine_country      wine_region  \\\n",
       "0                        Merlot       2019  United States       California   \n",
       "1            Cabernet Sauvignon       2011  United States  Columbia Valley   \n",
       "2  Hot To Trot Smooth Red Blend       2013  United States  Columbia Valley   \n",
       "3            Cabernet Sauvignon       2010          Chile     Maule Valley   \n",
       "4      Loggia del Conte Chianti       2016          Italy          Chianti   \n",
       "\n",
       "            winery  wine_rating  n_ratings  wine_price  \n",
       "0       Crane Lake          3.6         30        4.99  \n",
       "1            Hogue          3.3         76        4.95  \n",
       "2         14 Hands          3.7       3917        4.99  \n",
       "3            Aromo          3.0        189        4.99  \n",
       "4  Le Chiantigiane          3.3        149        4.99  "
      ]
     },
     "execution_count": 54,
     "metadata": {},
     "output_type": "execute_result"
    }
   ],
   "source": [
    "df_viv_3.drop_duplicates(inplace=True)\n",
    "df_viv_3.dropna(inplace = True)\n",
    "print(df_viv_3.shape)\n",
    "df_viv_3.head()"
   ]
  },
  {
   "cell_type": "code",
   "execution_count": 55,
   "metadata": {},
   "outputs": [],
   "source": [
    "df_viv_3.rename(columns = {'wine_year' : 'vintage',\n",
    "                         'wine_country' : 'country',\n",
    "                         'n_ratings':'rating_qty',\n",
    "                         'wine_region': 'region',\n",
    "                         'winery':'producer',\n",
    "                         'wine_rating':'rating',\n",
    "                         'wine_price': 'price'\n",
    "                         }, inplace = True)"
   ]
  },
  {
   "cell_type": "code",
   "execution_count": 56,
   "metadata": {},
   "outputs": [],
   "source": [
    "df_viv_3['wine_variety'] = 'red'"
   ]
  },
  {
   "cell_type": "code",
   "execution_count": 57,
   "metadata": {},
   "outputs": [],
   "source": [
    "df_viv_3['wine_name'] = df_viv_3['wine_name'].apply(cf.uniform_strings)\n",
    "df_viv_3['country'] = df_viv_3['country'].apply(cf.uniform_strings)\n",
    "df_viv_3['region'] = df_viv_3['region'].apply(cf.uniform_strings)\n",
    "df_viv_3['producer'] = df_viv_3['producer'].apply(cf.uniform_strings)"
   ]
  },
  {
   "cell_type": "code",
   "execution_count": 58,
   "metadata": {},
   "outputs": [],
   "source": [
    "# 70% of grape types accounted for, the rest are obscure types e.g. 'tinto' or 'red'. Likely blends of various grapes. \n",
    "df_viv_3['grape_variety'] = df_viv_3['wine_name'].apply(lambda x: cf.extract_varietal(x, grape_varieties))"
   ]
  },
  {
   "cell_type": "code",
   "execution_count": 59,
   "metadata": {},
   "outputs": [
    {
     "data": {
      "text/plain": [
       "array([2019, 2011, 2013, 2010, 2016, 2009, 2017, 2015, 2018, 2007, 2020,\n",
       "       2000, 2006, 2008, 2014, 2012, 2005, 2003, 1999, 2021, 1994, 2004,\n",
       "       1984, 2001])"
      ]
     },
     "execution_count": 59,
     "metadata": {},
     "output_type": "execute_result"
    }
   ],
   "source": [
    "df_viv_3['vintage'].unique()"
   ]
  },
  {
   "cell_type": "code",
   "execution_count": 60,
   "metadata": {},
   "outputs": [
    {
     "data": {
      "text/plain": [
       "count    10369.000000\n",
       "mean       516.262513\n",
       "std       1152.623501\n",
       "min         25.000000\n",
       "25%         68.000000\n",
       "50%        164.000000\n",
       "75%        462.000000\n",
       "max      24713.000000\n",
       "Name: rating_qty, dtype: float64"
      ]
     },
     "execution_count": 60,
     "metadata": {},
     "output_type": "execute_result"
    }
   ],
   "source": [
    "df_viv_3['rating_qty'].describe()"
   ]
  },
  {
   "cell_type": "code",
   "execution_count": 61,
   "metadata": {},
   "outputs": [],
   "source": [
    "df_viv_3['name'] = df_viv_3['producer'] + ' ' + df_viv_3['wine_name'] + ' ' + df_viv_3['vintage'].astype(str)\n",
    "df_viv_3['reviewed_by'] = 'unknown'\n",
    "df_viv_3['abv'] = np.nan\n",
    "df_viv_3['from_vivino'] = True\n",
    "df_viv_3.drop(columns = ['wine_name'],   inplace=True)"
   ]
  },
  {
   "cell_type": "markdown",
   "metadata": {},
   "source": [
    "# Combine Dataframes"
   ]
  },
  {
   "cell_type": "code",
   "execution_count": 62,
   "metadata": {},
   "outputs": [
    {
     "name": "stdout",
     "output_type": "stream",
     "text": [
      "(14266, 13)\n",
      "(34664, 13)\n",
      "(2018, 13)\n",
      "(10369, 13)\n"
     ]
    }
   ],
   "source": [
    "desired_columns_order = ['name', 'region', 'country', 'vintage', 'producer', 'wine_variety','grape_variety',\n",
    "                         'price', 'rating', 'rating_qty', 'abv', 'reviewed_by', 'from_vivino']\n",
    "df_wine_com = df_wine_com[desired_columns_order]\n",
    "df_viv_1 = df_viv_1[desired_columns_order]\n",
    "df_viv_2 = df_viv_2[desired_columns_order]\n",
    "df_viv_3 = df_viv_3[desired_columns_order]\n",
    "print(df_wine_com.shape)\n",
    "print(df_viv_1.shape)\n",
    "print(df_viv_2.shape)\n",
    "print(df_viv_3.shape)\n",
    "df_combined = pd.concat([df_wine_com, df_viv_1, df_viv_2, df_viv_3])"
   ]
  },
  {
   "cell_type": "code",
   "execution_count": 63,
   "metadata": {},
   "outputs": [],
   "source": [
    "df_combined['grape_variety'] = df_combined['grape_variety'].apply(cf.uniform_strings)"
   ]
  },
  {
   "cell_type": "code",
   "execution_count": null,
   "metadata": {},
   "outputs": [],
   "source": []
  },
  {
   "cell_type": "code",
   "execution_count": 64,
   "metadata": {},
   "outputs": [],
   "source": [
    "# # The below was revisited to iteratively to add new producer names to producer list in cleaning_functions.py\n",
    "# # Print shortlist of producer names to check and iteratively add to customer producer list\n",
    "# sorted_producer_list = np.sort(df_combined['producer'].unique())\n",
    "# def get_first_two_words(text):\n",
    "#     words = text.split()\n",
    "#     return \" \".join(words[:2]) if len(words) >= 2 else text\n",
    "\n",
    "# producer_prefixes = {}\n",
    "\n",
    "# # Populate a dictionary with producer that have the same first two words\n",
    "# for producer in sorted_producer_list:\n",
    "#     prefix = get_first_two_words(producer)\n",
    "#     if prefix in producer_prefixes:\n",
    "#         producer_prefixes[prefix].append(producer)\n",
    "#     else:\n",
    "#         producer_prefixes[prefix] = [producer]\n",
    "\n",
    "# # Print producers with matching first two words to check for ungrouped producers\n",
    "# for prefix, producers in producer_prefixes.items():\n",
    "#     if len(producers) > 1:  # Check if more than one producer has the same prefix\n",
    "#         print(f\"Producers with matching first two words '{prefix}': {', '.join(producers)}\")"
   ]
  },
  {
   "cell_type": "code",
   "execution_count": 65,
   "metadata": {},
   "outputs": [],
   "source": [
    "# Combine producers found to be undergrouped. \n",
    "df_combined.loc[df_combined['producer'] == 'Tinto Negro Tintonegro', 'producer'] =  'Tinto Negro'\n",
    "df_combined.loc[df_combined['producer'] == 'Stags Leap', 'producer'] =  'Stags Leap Wine Cellars'\n",
    "df_combined.loc[df_combined['producer'] == 'St Supery Dollarhide', 'producer'] =  'St Supery'\n",
    "df_combined.loc[df_combined['producer'] == 'Sans Liege', 'producer'] =  'Sans Liege Wines'\n",
    "df_combined.loc[df_combined['producer'] == 'Round Pond', 'producer'] =  'Round Pond Estate'\n",
    "df_combined.loc[df_combined['producer'] == 'Roscato Dolce Sweet', 'producer'] =  'Roscato Dolce'\n",
    "df_combined.loc[df_combined['producer'] == 'Robert Mondavi Private Selectiona', 'producer'] =  'Robert Mondavi'\n",
    "df_combined.loc[df_combined['producer'] == 'R Lopez De Heredia Vina Tondonia', 'producer'] =  'R Lopez'\n",
    "df_combined.loc[df_combined['producer'] == 'R Lopez De Heia Vina Nia', 'producer'] =  'R Lopez'\n",
    "df_combined.loc[df_combined['producer'] == 'R Lopez De Heia Rioja White Vina Tondonia Gran', 'producer'] =  'R Lopez'\n",
    "df_combined.loc[df_combined['producer'] == 'R Lopez De Heia Rioja Vina Tondonia', 'producer'] =  'R Lopez'\n",
    "df_combined.loc[df_combined['producer'] == 'Prayers Of Saints', 'producer'] =  'Prayers Of'\n",
    "df_combined.loc[df_combined['producer'] == 'Prayers Of Sinners', 'producer'] =  'Prayers Of'\n",
    "df_combined.loc[df_combined['producer'] == 'Prayers Of Sinners Saints', 'producer'] =  'Prayers Of'\n",
    "df_combined.loc[df_combined['producer'] == 'Prats Symington Ps', 'producer'] =  'Prats Symington'\n",
    "df_combined.loc[df_combined['producer'] == 'Potek Winery Demetria', 'producer'] =  'Potek Winery'\n",
    "df_combined.loc[df_combined['producer'] == 'Potek Winery Tierra Alta', 'producer'] =  'Potek Winery'\n",
    "df_combined.loc[df_combined['producer'] == 'Pedro Parra', 'producer'] =  'Pedro Parra Y Familia'\n",
    "df_combined.loc[df_combined['producer'] == 'Paul K Et Fils Classique', 'producer'] =  'Paul K Et Fils'\n",
    "df_combined.loc[df_combined['producer'] == 'Miguel Torres Chile', 'producer'] =  'Miguel Torres Chile'\n",
    "df_combined.loc[df_combined['producer'] == 'Michel Men Coteaux Bourguignons', 'producer'] =  'Michel Men'\n",
    "df_combined.loc[df_combined['producer'] == 'Mark Ryan', 'producer'] =  'Mark Ryan Winery'\n",
    "df_combined.loc[df_combined['producer'] == 'Louis Jadot Domaine Gagey', 'producer'] =  'Louis Jadot'\n",
    "df_combined.loc[df_combined['producer'] == 'Joseph Swan', 'producer'] =  'Joseph Swan Vineyards'\n",
    "df_combined.loc[df_combined['producer'] == 'Joseph Burrier Chateau De Beauregard', 'producer'] =  'Joseph Burrier'\n",
    "df_combined.loc[df_combined['producer'] == 'J Lohr', 'producer'] =  'J Lohr Vineyards Wines'\n",
    "df_combined.loc[df_combined['producer'] == 'Isa And Pierre Clement Menetousalon', 'producer'] =  'Isa And Pierre Clement'\n",
    "df_combined.loc[df_combined['producer'] == 'Isa And Pierre Clement Menetou Salon', 'producer'] =  'Isa And Pierre Clement'\n",
    "df_combined.loc[df_combined['producer'] == 'Hund Acre Few And Far Between', 'producer'] =  'Hund Acre'\n",
    "df_combined.loc[df_combined['producer'] == 'Hund Acre Precious', 'producer'] =  'Hund Acre'\n",
    "df_combined.loc[df_combined['producer'] == 'Hund Acre Wraith', 'producer'] =  'Hund Acre'\n",
    "df_combined.loc[df_combined['producer'] == 'Hamilton Russell', 'producer'] =  'Hamilton Russell Vineyards'\n",
    "df_combined.loc[df_combined['producer'] == 'Golden West', 'producer'] =  'Golden West Vineyard'\n",
    "df_combined.loc[df_combined['producer'] == 'Ghettina Franciacorta Milledi', 'producer'] =  'Ghettina Franciacorta'\n",
    "df_combined.loc[df_combined['producer'] == 'Ghettina Franciacorta Cuvee', 'producer'] =  'Ghettina Franciacorta'\n",
    "df_combined.loc[df_combined['producer'] == 'Francis Ford Coppola', 'producer'] =  \"Francis Ford Coppola Winery\"\n",
    "df_combined.loc[df_combined['producer'] == 'Ermitage Du Pic', 'producer'] =  \"Ermitage Du Pic Saint Loup\"\n",
    "df_combined.loc[df_combined['producer'] == 'Eden Rift', 'producer'] = 'Eden Rift Vineyards'\n",
    "df_combined.loc[df_combined['producer'] == '4 Kilos Vinicola', 'producer'] = '4 Kilos'\n",
    "df_combined.loc[df_combined['producer'] == '7 Deadly', 'producer'] = '7 Deadly Wines'\n",
    "df_combined.loc[df_combined['producer'] == 'A To Z', 'producer'] = 'A To Z Wineworks'\n",
    "df_combined.loc[df_combined['producer'] == 'Agricola De Borja', 'producer'] = 'Agricola De Borja Vina'\n",
    "df_combined.loc[df_combined['producer'] == 'Albert Boxler Edelswicker', 'producer'] = 'Albert Boxler'\n",
    "df_combined.loc[df_combined['producer'] == 'Alfo Bertolani Allantica', 'producer'] = 'Alfo Bertolani'\n",
    "df_combined.loc[df_combined['producer'] == 'Alfo Bertolani Dolce Fiore', 'producer'] = 'Alfo Bertolani'\n",
    "df_combined.loc[df_combined['producer'] == 'Anne Amie Vineyards', 'producer'] = 'Anne Amie'\n",
    "df_combined.loc[df_combined['producer'] == 'Bedrock Wine Co', 'producer'] = 'Bedrock Wine'\n",
    "df_combined.loc[df_combined['producer'] == 'Bodegas Nando Rez De Ganuza Fincas De Ganuza Rioja', 'producer'] = ' Bodegas Nando Rez De Ganuza'\n",
    "df_combined.loc[df_combined['producer'] == 'Bodegas Nando Rez De Ganuza Rioja', 'producer'] = ' Bodegas Nando Rez De Ganuza'\n",
    "df_combined.loc[df_combined['producer'] == 'Bodegas Nando Rez De Ganuza O', 'producer'] = ' Bodegas Nando Rez De Ganuza'\n",
    "df_combined.loc[df_combined['producer'] == 'Bodegas Nando Rez De Ganuza Rioja Gran', 'producer'] = ' Bodegas Nando Rez De Ganuza'\n",
    "df_combined.loc[df_combined['producer'] == 'Chateau Bourgneuf Vieux Chateau Bourgneuf', 'producer'] = 'Chateau Bourgneuf'\n",
    "df_combined.loc[df_combined['producer'] == 'Chateau Feuillet Valle Daosta', 'producer'] = 'Chateau Feuillet'\n",
    "df_combined.loc[df_combined['producer'] == 'Chateau Fuisse Julienas', 'producer'] = 'Chateau Fuisse'\n",
    "df_combined.loc[df_combined['producer'] == 'Clos Henri Vineyard', 'producer'] = 'Clos Henri'\n",
    "df_combined.loc[df_combined['producer'] == 'Domaine Anne Gros Jeanpaul Tollot', 'producer'] = 'Domaine Anne'\n",
    "df_combined.loc[df_combined['producer'] == 'Domaine Comte', 'producer'] = 'Domaine Comte Georges De Vogue'\n",
    "df_combined.loc[df_combined['producer'] == 'Domaine Eugene Carrel Fils', 'producer'] = 'Domaine Eugene Carrel Et Fils'\n",
    "df_combined.loc[df_combined['producer'] == 'Domaine Joseph', 'producer'] = 'Domaine Joseph Roty'\n",
    "df_combined.loc[df_combined['producer'] == 'Dry Creek', 'producer'] = 'Dry Creek Vineyard'"
   ]
  },
  {
   "cell_type": "code",
   "execution_count": 66,
   "metadata": {},
   "outputs": [
    {
     "data": {
      "text/plain": [
       "156"
      ]
     },
     "execution_count": 66,
     "metadata": {},
     "output_type": "execute_result"
    }
   ],
   "source": [
    "grape_value_counts = df_combined['grape_variety'].value_counts()\n",
    "not_grapes = grape_value_counts[grape_value_counts < 5]\n",
    "df_combined['grape_variety'] = df_combined['grape_variety'].apply(lambda x: 'Unknown' if x in not_grapes.index else x)\n",
    "len(df_combined['grape_variety'].unique())"
   ]
  },
  {
   "cell_type": "code",
   "execution_count": 67,
   "metadata": {},
   "outputs": [],
   "source": [
    "# Remove 'other' wine varietys (port, sherry and other fortified wines etc.) from dataset. \n",
    "# Leaving only red, white, rose and sparkling. \n",
    "df_combined = df_combined[df_combined['wine_variety'] != 'other'].copy()\n",
    "df_viv_3 = df_viv_3[df_viv_3['wine_variety'] != 'other'].copy()\n",
    "df_combined.loc[df_combined['vintage'] == 'unknown', 'vintage'] = np.nan\n",
    "df_combined.dropna(subset=['vintage'], inplace=True)"
   ]
  },
  {
   "cell_type": "code",
   "execution_count": 68,
   "metadata": {},
   "outputs": [],
   "source": [
    "df_combined.to_csv('../data/clean_combined_wines.csv', index=False)\n",
    "df_combined.to_csv('../app/clean_combined_wines_copy.csv', index=False)"
   ]
  }
 ],
 "metadata": {
  "kernelspec": {
   "display_name": "base",
   "language": "python",
   "name": "python3"
  },
  "language_info": {
   "codemirror_mode": {
    "name": "ipython",
    "version": 3
   },
   "file_extension": ".py",
   "mimetype": "text/x-python",
   "name": "python",
   "nbconvert_exporter": "python",
   "pygments_lexer": "ipython3",
   "version": "3.11.5"
  }
 },
 "nbformat": 4,
 "nbformat_minor": 2
}
